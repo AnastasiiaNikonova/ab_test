{
 "cells": [
  {
   "cell_type": "code",
   "execution_count": 7,
   "id": "2f34497e-37c5-4da8-9b44-1a7f1d629d80",
   "metadata": {},
   "outputs": [],
   "source": [
    "import numpy as np\n",
    "import pandas as pd\n",
    "import pandahouse as ph\n",
    "from scipy import stats\n",
    "import seaborn as sns\n",
    "import matplotlib.pyplot as plt"
   ]
  },
  {
   "cell_type": "code",
   "execution_count": 2,
   "id": "cdfbb7ae-2d47-40e4-bee4-7e344a1c6e88",
   "metadata": {},
   "outputs": [],
   "source": [
    "connection = {'host': 'https://clickhouse.lab.karpov.courses',\n",
    "                      'database':'simulator_20230420',\n",
    "                      'user':'student', \n",
    "                      'password':'dpo_python_2020'\n",
    "                     }\n",
    "\n",
    "# Отбираем данные за нужные даты по группам 2,3\n",
    "query = '''\n",
    "SELECT\n",
    "user_id,\n",
    "SUM(action='like')/SUM(action='view') AS ctr,\n",
    "exp_group\n",
    "FROM simulator_20230420.feed_actions\n",
    "WHERE exp_group in (2, 3)\n",
    "AND (toDate(time) BETWEEN '2023-03-25' AND '2023-03-31')\n",
    "GROUP BY user_id,exp_group\n",
    "'''\n",
    "\n"
   ]
  },
  {
   "cell_type": "code",
   "execution_count": 3,
   "id": "b8412d5d-1fd0-4b42-bdbc-da903be889b1",
   "metadata": {},
   "outputs": [],
   "source": [
    "# записываем в датафрейм\n",
    "aa_exp = ph.read_clickhouse(query, connection=connection)"
   ]
  },
  {
   "cell_type": "code",
   "execution_count": 13,
   "id": "9b1a15bd-1612-4c9d-bf4a-e830d3afb998",
   "metadata": {},
   "outputs": [
    {
     "data": {
      "text/html": [
       "<div>\n",
       "<style scoped>\n",
       "    .dataframe tbody tr th:only-of-type {\n",
       "        vertical-align: middle;\n",
       "    }\n",
       "\n",
       "    .dataframe tbody tr th {\n",
       "        vertical-align: top;\n",
       "    }\n",
       "\n",
       "    .dataframe thead th {\n",
       "        text-align: right;\n",
       "    }\n",
       "</style>\n",
       "<table border=\"1\" class=\"dataframe\">\n",
       "  <thead>\n",
       "    <tr style=\"text-align: right;\">\n",
       "      <th></th>\n",
       "      <th>user_id</th>\n",
       "      <th>ctr</th>\n",
       "      <th>exp_group</th>\n",
       "    </tr>\n",
       "  </thead>\n",
       "  <tbody>\n",
       "    <tr>\n",
       "      <th>0</th>\n",
       "      <td>115383</td>\n",
       "      <td>0.305556</td>\n",
       "      <td>3</td>\n",
       "    </tr>\n",
       "    <tr>\n",
       "      <th>1</th>\n",
       "      <td>123580</td>\n",
       "      <td>0.163043</td>\n",
       "      <td>3</td>\n",
       "    </tr>\n",
       "    <tr>\n",
       "      <th>2</th>\n",
       "      <td>131473</td>\n",
       "      <td>0.175676</td>\n",
       "      <td>2</td>\n",
       "    </tr>\n",
       "    <tr>\n",
       "      <th>3</th>\n",
       "      <td>23985</td>\n",
       "      <td>0.181818</td>\n",
       "      <td>2</td>\n",
       "    </tr>\n",
       "    <tr>\n",
       "      <th>4</th>\n",
       "      <td>24523</td>\n",
       "      <td>0.141667</td>\n",
       "      <td>2</td>\n",
       "    </tr>\n",
       "  </tbody>\n",
       "</table>\n",
       "</div>"
      ],
      "text/plain": [
       "   user_id       ctr  exp_group\n",
       "0   115383  0.305556          3\n",
       "1   123580  0.163043          3\n",
       "2   131473  0.175676          2\n",
       "3    23985  0.181818          2\n",
       "4    24523  0.141667          2"
      ]
     },
     "execution_count": 13,
     "metadata": {},
     "output_type": "execute_result"
    }
   ],
   "source": [
    "aa_exp.head(5)"
   ]
  },
  {
   "cell_type": "code",
   "execution_count": 10,
   "id": "cd9cd7ba-607f-4d89-bf42-2c78177c4d78",
   "metadata": {},
   "outputs": [],
   "source": [
    "p_values=[]\n",
    "iterations = 10000\n",
    "for _ in range(iterations):\n",
    "    sample_2 = aa_exp.query('exp_group==2').ctr.sample(500, replace=False).tolist()\n",
    "    sample_3 = aa_exp.query('exp_group==3').ctr.sample(500, replace=False).tolist()\n",
    "    p_values.append(stats.ttest_ind(sample_2, sample_3, equal_var = False)[1]) # проводим т-тест и записываем p_value по каждому эксперименту в список\n"
   ]
  },
  {
   "cell_type": "code",
   "execution_count": 11,
   "id": "d24ec250-4875-4706-bb8b-512c3a47ee2b",
   "metadata": {},
   "outputs": [
    {
     "data": {
      "image/png": "[encoded data removed]",
      "text/plain": [
       "<Figure size 432x288 with 1 Axes>"
      ]
     },
     "metadata": {
      "needs_background": "light"
     },
     "output_type": "display_data"
    }
   ],
   "source": [
    "# рисуем гистограмму распределения p_value. Видно, что распределение получилось равномерным, т.е. сплитование на группы 2 и 3 прошло успешно, группы одинаковые\n",
    "sns.histplot(p_values)\n",
    "plt.xlabel('p-values')\n",
    "plt.ylabel('frequency')\n",
    "plt.title(\"A/A t-test.Groups 2 and 3 \")\n",
    "plt.show()"
   ]
  },
  {
   "cell_type": "code",
   "execution_count": 12,
   "id": "0859f9a2-9829-48c1-aba2-c3e40ce90fa2",
   "metadata": {},
   "outputs": [
    {
     "data": {
      "text/plain": [
       "0.0478"
      ]
     },
     "execution_count": 12,
     "metadata": {},
     "output_type": "execute_result"
    }
   ],
   "source": [
    "# Проверяем, что количество ложноположительных случаев  не превышает альфа. В нашей выборке меньше 5% ложноположительных случаев,тест пройден.\n",
    "sum(np.array(p_values) <0.05) / iterations"
   ]
  },
  {
   "cell_type": "markdown",
   "id": "d23cb27b-c9f1-4805-997f-9e8f1edbdd9f",
   "metadata": {},
   "source": [
    "Можно сделать следующие выводы:\n",
    "Система сплитования работает хорошо, распределение p_value т-теста между двумя группами равномерно.\n",
    "Менее, чем в 5% случаев тест показывает значимую разницу ctr между группами 2 и 3, таким образом мы принимаем нулевую гипотезу о том, что между группами 2 и 3 нет статистически значимой разницы. А/А тест пройден."
   ]
  },
  {
   "cell_type": "code",
   "execution_count": null,
   "id": "2555f203-a105-4621-88e1-6953cc381b0e",
   "metadata": {},
   "outputs": [],
   "source": []
  }
 ],
 "metadata": {
  "kernelspec": {
   "display_name": "Python 3 (ipykernel)",
   "language": "python",
   "name": "python3"
  },
  "language_info": {
   "codemirror_mode": {
    "name": "ipython",
    "version": 3
   },
   "file_extension": ".py",
   "mimetype": "text/x-python",
   "name": "python",
   "nbconvert_exporter": "python",
   "pygments_lexer": "ipython3",
   "version": "3.8.10"
  }
 },
 "nbformat": 4,
 "nbformat_minor": 5
}
